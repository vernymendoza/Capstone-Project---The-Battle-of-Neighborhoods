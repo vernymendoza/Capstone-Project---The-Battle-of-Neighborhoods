{
    "cells": [
        {
            "cell_type": "markdown",
            "metadata": {
                "collapsed": true
            },
            "source": "## Business Problem"
        },
        {
            "cell_type": "markdown",
            "metadata": {},
            "source": "### Introduction"
        },
        {
            "cell_type": "markdown",
            "metadata": {},
            "source": "<p> Bogot\u00e1 es la capital y la ciudad m\u00e1s grande de Colombia. En ella se concentra el 21% de las empresas colombianas (el n\u00famero m\u00e1s alto de todos los departamentos). As\u00ed mismo, agrupa la mayor cantidad de empresas extranjeras del pa\u00eds. Estos son algunos de los factores que hacen de la ciudad de Bogot\u00e1 una de las ciudades con m\u00e1s posibilidades de empleo y de emprendimiento en toda Latinoam\u00e9rica.</p> \n<p>Con respecto a producci\u00f3n econ\u00f3mica, el PIB de Colombia ha crecido favorablemente desde el a\u00f1o 2008, siendo mayor que el PIB de Panam\u00e1, Bolivia, El Salvador y Uruguay, seg\u00fan The Economist. Esto sumado a otros aspectos, Colombia y su capital se han convertido en uno de los mejores destinos latinoamericanos para emprender.</p>\n<p>De esta manera, esta ciudad requiere la utilizaci\u00f3n de diferentes servicios que permitan el desarrollo de estas actividades empresariales y comerciales. Por ejemplo, el 78% de las empresas m\u00e1s comunes en Bogot\u00e1, son las que se relacionan con los servicios, entre las cuales se destacan los servicios de comidas, belleza o salud.</p>"
        },
        {
            "cell_type": "markdown",
            "metadata": {},
            "source": "<p>En esta ocasi\u00f3n, se pretende desarrollar un proyecto a partir del an\u00e1lisis de los datos disponibles y las herramientas aprendidas durante este curso, que muestre los espacios de la ciudad de Bogot\u00e1 en donde ser\u00eda m\u00e1s favorable abrir un restaurante, teniendo en cuenta la oferta disponible de cada zona y las relaciones precio/calidad de los mismos. Sin lugar a dudas, este es uno de los negocios m\u00e1s lucrativos y competitivos en Bogot\u00e1, debido a su alta y constante demanda.</p>\n<p>Este proyecto est\u00e1 dirigido a todos aquellos j\u00f3venes inversores apasionados por la cocina y los negocios, que deseen invertir su dinero en Bogot\u00e1-Colombia, una ciudad llena de oportunidades y de espacios para nuevas ideas culinarias.</p>"
        },
        {
            "cell_type": "markdown",
            "metadata": {},
            "source": "."
        },
        {
            "cell_type": "markdown",
            "metadata": {},
            "source": "### Data"
        },
        {
            "cell_type": "markdown",
            "metadata": {},
            "source": "<p>Los datos que se utilizar\u00e1n para desarrollar este proyecto, ser\u00e1n los que ofrece la plataforma <strong><em>Foursquare</em></strong>, la cual se basa en la localizaci\u00f3n web aplicada de las redes sociales. Se pretende obtener informaci\u00f3n de los restaurantes ya existentes en cada una de las zonas postales de Bogot\u00e1, para identificar seg\u00fan la carencia de restaurantes, cu\u00e1l o cu\u00e1les podr\u00edan ser los mejores lugares para instaurar uno nuevo.</p>"
        },
        {
            "cell_type": "markdown",
            "metadata": {},
            "source": "<p>Los c\u00f3digos postales de la ciudad de Bogot\u00e1 y sus respectivas zonas, se obtienen por medio de la t\u00e9cnica de <em>web scraping</em>. La base requerida que contiene los c\u00f3digos postales para iniciar el an\u00e1lisis geogr\u00e1fico, y adicionalmente el nombre de las localidades y los barrios, se obtiene del siguiente portal <strong>https://www.kprichitoregalos.com.co/codigo-postal/</strong>. Esta empresa por ejemplo, utiliza estos datos para realizar los respectivos domicilios de sus productos."
        },
        {
            "cell_type": "markdown",
            "metadata": {},
            "source": "Despu\u00e9s de extraer la tabla de inter\u00e9s del portal anterior, y convertirla en un dataframe, esta es la base y su proceso de creaci\u00f3n, con la cual se empezar\u00e1 a hacer el an\u00e1lisis de los datos:\n<strong>https://www.kprichitoregalos.com.co/codigo-postal/</strong>"
        }
    ],
    "metadata": {
        "kernelspec": {
            "display_name": "Python 3.6",
            "language": "python",
            "name": "python3"
        },
        "language_info": {
            "codemirror_mode": {
                "name": "ipython",
                "version": 3
            },
            "file_extension": ".py",
            "mimetype": "text/x-python",
            "name": "python",
            "nbconvert_exporter": "python",
            "pygments_lexer": "ipython3",
            "version": "3.6.9"
        }
    },
    "nbformat": 4,
    "nbformat_minor": 1
}