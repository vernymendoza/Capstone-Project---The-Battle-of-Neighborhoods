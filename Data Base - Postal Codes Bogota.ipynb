{
    "cells": [
        {
            "cell_type": "markdown",
            "metadata": {
                "collapsed": true
            },
            "source": "### Create data base"
        },
        {
            "cell_type": "markdown",
            "metadata": {},
            "source": "## I. Scrape page"
        },
        {
            "cell_type": "markdown",
            "metadata": {},
            "source": "Import Libraries"
        },
        {
            "cell_type": "code",
            "execution_count": 1,
            "metadata": {},
            "outputs": [],
            "source": "import requests\nimport lxml.html as lh\nimport pandas as pd"
        },
        {
            "cell_type": "markdown",
            "metadata": {},
            "source": "Scrape Table Cells"
        },
        {
            "cell_type": "code",
            "execution_count": 2,
            "metadata": {},
            "outputs": [],
            "source": "url='https://www.kprichitoregalos.com.co/codigo-postal/'\n#Create a handle, page, to handle the contents of the website\npage = requests.get(url)\n#Store the contents of the website under doc\ndoc = lh.fromstring(page.content)\n#Parse data that are stored between <tr>..</tr> of HTML\ntr_elements = doc.xpath('//tr')"
        },
        {
            "cell_type": "markdown",
            "metadata": {},
            "source": "Check the length of the first 10 rows"
        },
        {
            "cell_type": "code",
            "execution_count": 3,
            "metadata": {},
            "outputs": [
                {
                    "data": {
                        "text/plain": "[3, 3, 3, 3, 3, 3, 3, 3, 3, 3]"
                    },
                    "execution_count": 3,
                    "metadata": {},
                    "output_type": "execute_result"
                }
            ],
            "source": "[len(T) for T in tr_elements[:10]]"
        },
        {
            "cell_type": "markdown",
            "metadata": {},
            "source": "Parse Table Header"
        },
        {
            "cell_type": "code",
            "execution_count": 4,
            "metadata": {},
            "outputs": [
                {
                    "name": "stdout",
                    "output_type": "stream",
                    "text": "1:\"CODIGO POSTAL\"\n2:\"LOCALIDAD\"\n3:\"BARRIOS CONTENIDOS EN EL CODIGO POSTAL\"\n"
                }
            ],
            "source": "tr_elements = doc.xpath('//tr')\n#Create empty list\ncol=[]\ni=0\n#For each row, store each first element (header) and an empty list\nfor t in tr_elements[0]:\n    i+=1\n    name=t.text_content()\n    print ('%d:\"%s\"' % (i,name))\n    col.append((name,[]))"
        },
        {
            "cell_type": "markdown",
            "metadata": {},
            "source": "Name of columns"
        },
        {
            "cell_type": "code",
            "execution_count": 5,
            "metadata": {},
            "outputs": [
                {
                    "data": {
                        "text/plain": "[('CODIGO POSTAL', []),\n ('LOCALIDAD', []),\n ('BARRIOS CONTENIDOS EN EL CODIGO POSTAL', [])]"
                    },
                    "execution_count": 5,
                    "metadata": {},
                    "output_type": "execute_result"
                }
            ],
            "source": "col"
        },
        {
            "cell_type": "markdown",
            "metadata": {},
            "source": "Creating Pandas DataFrame"
        },
        {
            "cell_type": "code",
            "execution_count": 6,
            "metadata": {},
            "outputs": [],
            "source": "#Since out first row is the header, data is stored on the second row onwards\nfor j in range(1,len(tr_elements)):\n    #T is our j'th row\n    T=tr_elements[j]\n    \n    #If row is not of size 3, the //tr data is not from our table \n    if len(T)!=3:\n        break\n    \n    #i is the index of our column\n    i=0\n    \n    #Iterate through each element of the row\n    for t in T.iterchildren():\n        data=t.text_content() \n        #Check if row is empty\n        if i>0:\n        #Convert any numerical value to integers\n            try:\n                data=int(data)\n            except:\n                pass\n        #Append the data to the empty list of the i'th column\n        col[i][1].append(data)\n        #Increment i for the next column\n        i+=1"
        },
        {
            "cell_type": "markdown",
            "metadata": {},
            "source": "Check if all columns have the same number of rows"
        },
        {
            "cell_type": "code",
            "execution_count": 7,
            "metadata": {},
            "outputs": [
                {
                    "data": {
                        "text/plain": "[63, 63, 63]"
                    },
                    "execution_count": 7,
                    "metadata": {},
                    "output_type": "execute_result"
                }
            ],
            "source": "[len(C) for (title,C) in col]"
        },
        {
            "cell_type": "markdown",
            "metadata": {},
            "source": "Create the DataFrame"
        },
        {
            "cell_type": "code",
            "execution_count": 8,
            "metadata": {
                "scrolled": true
            },
            "outputs": [
                {
                    "data": {
                        "text/html": "<div>\n<style scoped>\n    .dataframe tbody tr th:only-of-type {\n        vertical-align: middle;\n    }\n\n    .dataframe tbody tr th {\n        vertical-align: top;\n    }\n\n    .dataframe thead th {\n        text-align: right;\n    }\n</style>\n<table border=\"1\" class=\"dataframe\">\n  <thead>\n    <tr style=\"text-align: right;\">\n      <th></th>\n      <th>CODIGO POSTAL</th>\n      <th>LOCALIDAD</th>\n      <th>BARRIOS CONTENIDOS EN EL CODIGO POSTAL</th>\n    </tr>\n  </thead>\n  <tbody>\n    <tr>\n      <th>0</th>\n      <td>111511</td>\n      <td>Antonio Nari\u00f1o</td>\n      <td>Caracas, Ciudad Berna, Ciudad Jard\u00edn Sur, Edua...</td>\n    </tr>\n    <tr>\n      <th>1</th>\n      <td>111211</td>\n      <td>Barrios Unidos</td>\n      <td>Alc\u00e1zares Norte, Doce de Octubre, Entrerr\u00edos, ...</td>\n    </tr>\n    <tr>\n      <th>2</th>\n      <td>111221</td>\n      <td>Barrios Unidos</td>\n      <td>Alc\u00e1zares, Baquero, Benjam\u00edn Herrera, Colombia...</td>\n    </tr>\n    <tr>\n      <th>3</th>\n      <td>110711</td>\n      <td>Bosa</td>\n      <td>Betania, Brasil, Brasilia, Ca\u00f1averalejo, Ca\u00f1av...</td>\n    </tr>\n    <tr>\n      <th>4</th>\n      <td>110721</td>\n      <td>Bosa</td>\n      <td>Bosa Nova, Bosa Nova El Porvenir, Chic\u00f3 Sur, C...</td>\n    </tr>\n    <tr>\n      <th>5</th>\n      <td>110731</td>\n      <td>Bosa</td>\n      <td>Antonia Santos, Argelia II, Bosa, El Jard\u00edn, G...</td>\n    </tr>\n    <tr>\n      <th>6</th>\n      <td>110741</td>\n      <td>Bosa</td>\n      <td>Andaluc\u00eda II, Cementerio Jard\u00ednes Apogeo, Char...</td>\n    </tr>\n    <tr>\n      <th>7</th>\n      <td>111711</td>\n      <td>Candelaria</td>\n      <td>Bel\u00e9n, Centro Administrativo, Egipto, La Cated...</td>\n    </tr>\n    <tr>\n      <th>8</th>\n      <td>110211</td>\n      <td>Chapinero</td>\n      <td>Esperanza, P\u00e1ramo, P\u00e1ramo I, P\u00e1ramo II, P\u00e1ramo...</td>\n    </tr>\n    <tr>\n      <th>9</th>\n      <td>110221</td>\n      <td>Chapinero</td>\n      <td>Antiguo Country, Bellavista, Chic\u00f3 Norte, Chic...</td>\n    </tr>\n  </tbody>\n</table>\n</div>",
                        "text/plain": "  CODIGO POSTAL       LOCALIDAD  \\\n0        111511  Antonio Nari\u00f1o   \n1        111211  Barrios Unidos   \n2        111221  Barrios Unidos   \n3        110711            Bosa   \n4        110721            Bosa   \n5        110731            Bosa   \n6        110741            Bosa   \n7        111711      Candelaria   \n8        110211       Chapinero   \n9        110221       Chapinero   \n\n              BARRIOS CONTENIDOS EN EL CODIGO POSTAL  \n0  Caracas, Ciudad Berna, Ciudad Jard\u00edn Sur, Edua...  \n1  Alc\u00e1zares Norte, Doce de Octubre, Entrerr\u00edos, ...  \n2  Alc\u00e1zares, Baquero, Benjam\u00edn Herrera, Colombia...  \n3  Betania, Brasil, Brasilia, Ca\u00f1averalejo, Ca\u00f1av...  \n4  Bosa Nova, Bosa Nova El Porvenir, Chic\u00f3 Sur, C...  \n5  Antonia Santos, Argelia II, Bosa, El Jard\u00edn, G...  \n6  Andaluc\u00eda II, Cementerio Jard\u00ednes Apogeo, Char...  \n7  Bel\u00e9n, Centro Administrativo, Egipto, La Cated...  \n8  Esperanza, P\u00e1ramo, P\u00e1ramo I, P\u00e1ramo II, P\u00e1ramo...  \n9  Antiguo Country, Bellavista, Chic\u00f3 Norte, Chic...  "
                    },
                    "execution_count": 8,
                    "metadata": {},
                    "output_type": "execute_result"
                }
            ],
            "source": "Dict={title:column for (title,column) in col}\ndf=pd.DataFrame(Dict)\ndf.head(10)"
        },
        {
            "cell_type": "markdown",
            "metadata": {},
            "source": "Number of rows and columns of dataframe"
        },
        {
            "cell_type": "code",
            "execution_count": 10,
            "metadata": {
                "scrolled": false
            },
            "outputs": [
                {
                    "data": {
                        "text/plain": "(63, 3)"
                    },
                    "execution_count": 10,
                    "metadata": {},
                    "output_type": "execute_result"
                }
            ],
            "source": "df.shape"
        }
    ],
    "metadata": {
        "kernelspec": {
            "display_name": "Python 3.6",
            "language": "python",
            "name": "python3"
        },
        "language_info": {
            "codemirror_mode": {
                "name": "ipython",
                "version": 3
            },
            "file_extension": ".py",
            "mimetype": "text/x-python",
            "name": "python",
            "nbconvert_exporter": "python",
            "pygments_lexer": "ipython3",
            "version": "3.6.9"
        }
    },
    "nbformat": 4,
    "nbformat_minor": 1
}